{
  "nbformat": 4,
  "nbformat_minor": 0,
  "metadata": {
    "colab": {
      "name": "Data.ipynb",
      "provenance": []
    },
    "kernelspec": {
      "name": "python3",
      "display_name": "Python 3"
    }
  },
  "cells": [
    {
      "cell_type": "markdown",
      "metadata": {
        "id": "xB5WOAybUYKo"
      },
      "source": [
        "# **Data Section**"
      ]
    },
    {
      "cell_type": "markdown",
      "metadata": {
        "id": "OKJcJQwYUPUT"
      },
      "source": [
        "Describe the data that you will be using to solve the problem or execute your idea. Remember that you will need to use the Foursquare location data to solve the problem or execute your idea. You can absolutely use other datasets in combination with the Foursquare location data. So make sure that you provide adequate explanation and discussion, with examples, of the data that you will be using, even if it is only Foursquare location data.\n",
        "\n",
        "This submission will eventually become your Data section in your final report. So I recommend that you push the report (having your Data section) to your Github repository and submit a link to it."
      ]
    },
    {
      "cell_type": "markdown",
      "metadata": {
        "id": "szTxiYNsVrXa"
      },
      "source": [
        "# Foursquare location data\n",
        "In this project, we will mainly focus on North York Borough.\n",
        "<br> We need data from Foursquare API about different venues in neighbourhood to explore North York Borough. \n",
        "<br> We will be working with Foursquare data such as Neighborhood, Venue, Venue Category, Neighborhood Latitude, Neighborhood Longitude, Venue Latitude, Venue Longitude, etc.\n"
      ]
    },
    {
      "cell_type": "markdown",
      "metadata": {
        "id": "E98ap13dUcAp"
      },
      "source": [
        "# Other Datasets\n",
        "\n",
        "We use the same data we used in week3 assignment in combination with the Foursquare location data.\n",
        "<br> url: https://en.wikipedia.org/wiki/List_of_postal_codes_of_Canada:_M\n",
        "<br> There are three columns in the dataset: Postal Code, Borough, Neighbourhood.\n",
        "<br> In this project, we will mainly focus on North York Borough."
      ]
    },
    {
      "cell_type": "code",
      "metadata": {
        "id": "1O1j6Fk_UNZy"
      },
      "source": [
        ""
      ],
      "execution_count": null,
      "outputs": []
    },
    {
      "cell_type": "markdown",
      "metadata": {
        "id": "RiDgOCYTUXmv"
      },
      "source": [
        ""
      ]
    },
    {
      "cell_type": "code",
      "metadata": {
        "id": "TkG-jGzbUP8c"
      },
      "source": [
        ""
      ],
      "execution_count": null,
      "outputs": []
    }
  ]
}