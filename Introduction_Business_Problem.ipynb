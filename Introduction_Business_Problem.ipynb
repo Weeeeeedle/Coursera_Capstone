{
  "nbformat": 4,
  "nbformat_minor": 0,
  "metadata": {
    "colab": {
      "name": "Introduction/Business Problem.ipynb",
      "provenance": []
    },
    "kernelspec": {
      "name": "python3",
      "display_name": "Python 3"
    }
  },
  "cells": [
    {
      "cell_type": "markdown",
      "metadata": {
        "id": "_kKCYj18XX5R"
      },
      "source": [
        "# **Introduction/Business Problem**"
      ]
    },
    {
      "cell_type": "markdown",
      "metadata": {
        "id": "KXoUvpSQSPR9"
      },
      "source": [
        "Clearly define a problem or an idea of your choice, where you would need to leverage the Foursquare location data to solve or execute. Remember that data science problems always target an audience and are meant to help a group of stakeholders solve a problem, so make sure that you explicitly describe your audience and why they would care about your problem.\n",
        "\n",
        "This submission will eventually become your Introduction/Business Problem section in your final report. So I recommend that you push the report (having your Introduction/Business Problem section only for now) to your Github repository and submit a link to it."
      ]
    },
    {
      "cell_type": "markdown",
      "metadata": {
        "id": "MN7yXq66Xk0W"
      },
      "source": [
        "# Background\n",
        "\n",
        "In this project, we will be exploring the neighbourhoods in North York Borough. We will examine the facilities in different neighbourhoods. And give people optimal recommendations when they are considering moving or relocating to North York neighbourhoods."
      ]
    },
    {
      "cell_type": "markdown",
      "metadata": {
        "id": "_Bc63FGpY7Lp"
      },
      "source": [
        "# Problem\n",
        "This project aims to provide recommendations to people when they are considering moving or relocating to North York neighbourhoods. The features we will examine includes the housing price, schools, transportations, markets, shopping centers, etc."
      ]
    },
    {
      "cell_type": "markdown",
      "metadata": {
        "id": "fdNnvCmgZ9W5"
      },
      "source": [
        "# Target Audience\n",
        "People who are considering moving or relocating to North York neighbourhoods.\n",
        "They would care about my problem because it is closely related to their daily life after they moved to North York neighbourhoods and they would want to make better choice before deciding which neighbourhood they want to move to."
      ]
    },
    {
      "cell_type": "markdown",
      "metadata": {
        "id": "98cTjyJoX0k9"
      },
      "source": [
        "# Libraries \n",
        "Pandas, Numpy, Matplotlib, Folium, Scikit Learn, JSON, Geocoder, XML, Beautiful Soup, Requests\n"
      ]
    },
    {
      "cell_type": "code",
      "metadata": {
        "id": "D5uX43sYSLh8"
      },
      "source": [
        ""
      ],
      "execution_count": null,
      "outputs": []
    },
    {
      "cell_type": "code",
      "metadata": {
        "id": "sX0CB6i6SRrp"
      },
      "source": [
        ""
      ],
      "execution_count": null,
      "outputs": []
    },
    {
      "cell_type": "code",
      "metadata": {
        "id": "vwUxq131ScD6"
      },
      "source": [
        ""
      ],
      "execution_count": null,
      "outputs": []
    }
  ]
}