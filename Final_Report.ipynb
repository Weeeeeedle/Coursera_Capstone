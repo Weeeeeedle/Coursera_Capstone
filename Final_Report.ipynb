{
  "nbformat": 4,
  "nbformat_minor": 0,
  "metadata": {
    "colab": {
      "name": "Final Report.ipynb",
      "provenance": []
    },
    "kernelspec": {
      "name": "python3",
      "display_name": "Python 3"
    }
  },
  "cells": [
    {
      "cell_type": "markdown",
      "metadata": {
        "id": "7pX1S-JqXW6h"
      },
      "source": [
        "# **Introduction and Business Problem**"
      ]
    },
    {
      "cell_type": "markdown",
      "metadata": {
        "id": "_Ktg5I9oXXZ4"
      },
      "source": [
        "Introduction where you discuss the business problem and who would be interested in this project."
      ]
    },
    {
      "cell_type": "markdown",
      "metadata": {
        "id": "cz1fOWZVXgDp"
      },
      "source": [
        "In this project, we will be exploring the neighbourhoods in North York Borough. We will examine the facilities in different neighbourhoods. And give people optimal recommendations when they are considering moving or relocating to North York neighbourhoods.\n",
        "\n",
        "This project aims to provide recommendations to people when they are considering moving or relocating to North York neighbourhoods. The features we will examine includes the housing price, schools, transportations, markets, shopping centers, etc.\n"
      ]
    },
    {
      "cell_type": "markdown",
      "metadata": {
        "id": "eGUj2CPXYf2m"
      },
      "source": [
        "## **Target Audience**\n",
        "\n",
        "People who are considering moving or relocating to North York neighbourhoods. They would care about my problem because it is closely related to their daily life after they moved to North York neighbourhoods and they would want to make better choice before deciding which neighbourhood they want to move to."
      ]
    },
    {
      "cell_type": "markdown",
      "metadata": {
        "id": "Ac_AR2fYXgqx"
      },
      "source": [
        "# **Data Description**"
      ]
    },
    {
      "cell_type": "markdown",
      "metadata": {
        "id": "51G4KTmXXnzQ"
      },
      "source": [
        "Data where you describe the data that will be used to solve the problem and the source of the data."
      ]
    },
    {
      "cell_type": "markdown",
      "metadata": {
        "id": "VN_vvLSNXpJW"
      },
      "source": [
        "## **Foursquare Location Data**\n",
        "In this project, we will mainly focus on North York Borough.\n",
        "We need data from Foursquare API about different venues in neighbourhood to explore North York Borough.\n",
        "We will be working with Foursquare data such as Neighborhood, Venue, Venue Category, Neighborhood Latitude, Neighborhood Longitude, Venue Latitude, Venue Longitude, etc.\n",
        "\n",
        "# **Other Datasets**\n",
        "We use the same data we used in week3 assignment in combination with the Foursquare location data.\n",
        "<br>url: https://en.wikipedia.org/wiki/List_of_postal_codes_of_Canada:_M\n",
        "<br>There are three columns in the dataset: Postal Code, Borough, Neighbourhood.\n",
        "In this project, we will mainly focus on North York Borough."
      ]
    },
    {
      "cell_type": "markdown",
      "metadata": {
        "id": "6h73CGGlXu1b"
      },
      "source": [
        "# **Methodology**"
      ]
    },
    {
      "cell_type": "markdown",
      "metadata": {
        "id": "UMCK5doFXpfo"
      },
      "source": [
        "Methodology section which represents the main component of the report where you discuss and describe any exploratory data analysis that you did, any inferential statistical testing that you performed, if any, and what machine learnings were used and why."
      ]
    },
    {
      "cell_type": "markdown",
      "metadata": {
        "id": "ogzEtYY_X0bl"
      },
      "source": [
        "# K-Means Clustering Approach\n",
        "I was using K-Means Clustering Approach to segment and group the neighborhoods into clusters to find similar neighborhoods in North York Borough. And I cluster them using the most common venues in each neighborhoods."
      ]
    },
    {
      "cell_type": "markdown",
      "metadata": {
        "id": "K-YL4NTuX00r"
      },
      "source": [
        "# **Result**"
      ]
    },
    {
      "cell_type": "markdown",
      "metadata": {
        "id": "YiEgINDYX3MF"
      },
      "source": [
        "Results section where you discuss the results."
      ]
    },
    {
      "cell_type": "markdown",
      "metadata": {
        "id": "zk8fIS3zX3_m"
      },
      "source": [
        "I have derived the map of the North York Borough and I have showed the results of grouped neighborhoods with their most common point of interests. For example, the most common venue in neighborhood Agincourt is Brekefast Spot, and the second most common venue is Skading Rink. "
      ]
    },
    {
      "cell_type": "markdown",
      "metadata": {
        "id": "qPO9VKGHX7lQ"
      },
      "source": [
        "# **Discussion**"
      ]
    },
    {
      "cell_type": "markdown",
      "metadata": {
        "id": "d7yijsCUX4fe"
      },
      "source": [
        "Discussion section where you discuss any observations you noted and any recommendations you can make based on the results."
      ]
    },
    {
      "cell_type": "markdown",
      "metadata": {
        "id": "VsYQKpbwX-Cb"
      },
      "source": [
        "According to my results, the most common venue in North York Borough is Coffee Shop. Majority neighborhood has Coffee Shop as their most common venue."
      ]
    },
    {
      "cell_type": "markdown",
      "metadata": {
        "id": "WMXnwsEgYCLK"
      },
      "source": [
        "# **Conclusion**"
      ]
    },
    {
      "cell_type": "markdown",
      "metadata": {
        "id": "m4Ji1v_xX-Xi"
      },
      "source": [
        "Conclusion section where you conclude the report."
      ]
    },
    {
      "cell_type": "markdown",
      "metadata": {
        "id": "T4c3V7rWYFns"
      },
      "source": [
        "The target audience, which are the People who are considering moving or relocating to North York neighbourhoods, can make their decisions based on my findings of the common venues and they can have a more direct idea of whether some specific neighbourhoods matches their interests or concerns. Based on all of these, they can make more efficient and wise choice."
      ]
    },
    {
      "cell_type": "code",
      "metadata": {
        "id": "ZG_BlWlZXPIi"
      },
      "source": [
        ""
      ],
      "execution_count": null,
      "outputs": []
    }
  ]
}